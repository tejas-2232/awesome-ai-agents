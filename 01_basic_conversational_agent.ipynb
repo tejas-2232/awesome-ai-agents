{
 "cells": [
  {
   "cell_type": "markdown",
   "metadata": {},
   "source": [
    "# Basic Conversational AI Agent\n",
    "\n",
    "This notebook demonstrates how to create a simple conversational AI agent using OpenAI's GPT model.\n",
    "The agent can engage in natural conversations and maintain context throughout the interaction.\n",
    "\n",
    "## Features:\n",
    "- Natural language conversation\n",
    "- Context awareness\n",
    "- Customizable personality and behavior\n",
    "- Memory of conversation history"
   ]
  },
  {
   "cell_type": "markdown",
   "metadata": {},
   "source": [
    "## Setup and Installation\n",
    "\n",
    "First, let's install the required dependencies:"
   ]
  },
  {
   "cell_type": "code",
   "execution_count": null,
   "metadata": {},
   "outputs": [],
   "source": [
    "# Install required packages\n",
    "!pip install openai python-dotenv"
   ]
  },
  {
   "cell_type": "markdown",
   "metadata": {},
   "source": [
    "## Import Libraries and Setup Environment"
   ]
  },
  {
   "cell_type": "code",
   "execution_count": null,
   "metadata": {},
   "outputs": [],
   "source": [
    "import openai\n",
    "import os\n",
    "from dotenv import load_dotenv\n",
    "from datetime import datetime\n",
    "\n",
    "# Load environment variables\n",
    "load_dotenv()\n",
    "\n",
    "# Set up OpenAI API key\n",
    "openai.api_key = os.getenv('OPENAI_API_KEY')\n",
    "\n",
    "# If you don't have a .env file, you can set the API key directly:\n",
    "# openai.api_key = \"your-api-key-here\""
   ]
  },
  {
   "cell_type": "markdown",
   "metadata": {},
   "source": [
    "## Basic Conversational Agent Class\n",
    "\n",
    "Let's create a simple conversational agent that can maintain context and have natural conversations:"
   ]
  },
  {
   "cell_type": "code",
   "execution_count": null,
   "metadata": {},
   "outputs": [],
   "source": [
    "class ConversationalAgent:\n",
    "    def __init__(self, system_prompt=\"You are a helpful AI assistant.\", model=\"gpt-3.5-turbo\"):\n",
    "        \"\"\"\n",
    "        Initialize the conversational agent.\n",
    "        \n",
    "        Args:\n",
    "            system_prompt (str): The system prompt that defines the agent's personality\n",
    "            model (str): The OpenAI model to use\n",
    "        \"\"\"\n",
    "        self.model = model\n",
    "        self.conversation_history = [\n",
    "            {\"role\": \"system\", \"content\": system_prompt}\n",
    "        ]\n",
    "    \n",
    "    def send_message(self, message):\n",
    "        \"\"\"\n",
    "        Send a message to the agent and get a response.\n",
    "        \n",
    "        Args:\n",
    "            message (str): User's message\n",
    "            \n",
    "        Returns:\n",
    "            str: Agent's response\n",
    "        \"\"\"\n",
    "        # Add user message to conversation history\n",
    "        self.conversation_history.append({\"role\": \"user\", \"content\": message})\n",
    "        \n",
    "        try:\n",
    "            # Get response from OpenAI\n",
    "            response = openai.ChatCompletion.create(\n",
    "                model=self.model,\n",
    "                messages=self.conversation_history,\n",
    "                max_tokens=150,\n",
    "                temperature=0.7\n",
    "            )\n",
    "            \n",
    "            # Extract the assistant's response\n",
    "            assistant_message = response.choices[0].message.content\n",
    "            \n",
    "            # Add assistant's response to conversation history\n",
    "            self.conversation_history.append({\"role\": \"assistant\", \"content\": assistant_message})\n",
    "            \n",
    "            return assistant_message\n",
    "            \n",
    "        except Exception as e:\n",
    "            return f\"Error: {str(e)}\"\n",
    "    \n",
    "    def get_conversation_history(self):\n",
    "        \"\"\"\n",
    "        Get the full conversation history.\n",
    "        \n",
    "        Returns:\n",
    "            list: List of conversation messages\n",
    "        \"\"\"\n",
    "        return self.conversation_history\n",
    "    \n",
    "    def clear_history(self, keep_system_prompt=True):\n",
    "        \"\"\"\n",
    "        Clear the conversation history.\n",
    "        \n",
    "        Args:\n",
    "            keep_system_prompt (bool): Whether to keep the system prompt\n",
    "        \"\"\"\n",
    "        if keep_system_prompt and self.conversation_history:\n",
    "            self.conversation_history = [self.conversation_history[0]]\n",
    "        else:\n",
    "            self.conversation_history = []"
   ]
  },
  {
   "cell_type": "markdown",
   "metadata": {},
   "source": [
    "## Example 1: Basic Assistant"
   ]
  },
  {
   "cell_type": "code",
   "execution_count": null,
   "metadata": {},
   "outputs": [],
   "source": [
    "# Create a basic assistant\n",
    "assistant = ConversationalAgent(\n",
    "    system_prompt=\"You are a helpful AI assistant. Be friendly, informative, and concise in your responses.\"\n",
    ")\n",
    "\n",
    "# Have a conversation\n",
    "print(\"=== Basic Assistant Example ===\")\n",
    "print(\"Assistant:\", assistant.send_message(\"Hello! What can you help me with today?\"))\n",
    "print(\"Assistant:\", assistant.send_message(\"Can you explain what machine learning is?\"))\n",
    "print(\"Assistant:\", assistant.send_message(\"What are some popular ML algorithms?\"))"
   ]
  },
  {
   "cell_type": "markdown",
   "metadata": {},
   "source": [
    "## Example 2: Specialized Expert Agent"
   ]
  },
  {
   "cell_type": "code",
   "execution_count": null,
   "metadata": {},
   "outputs": [],
   "source": [
    "# Create a specialized coding expert\n",
    "coding_expert = ConversationalAgent(\n",
    "    system_prompt=\"\"\"You are a senior software engineer and coding expert. \n",
    "    You specialize in Python, JavaScript, and AI/ML technologies. \n",
    "    Provide detailed, practical advice with code examples when appropriate. \n",
    "    Always consider best practices and explain your reasoning.\"\"\"\n",
    ")\n",
    "\n",
    "print(\"\\n=== Coding Expert Example ===\")\n",
    "print(\"Expert:\", coding_expert.send_message(\"How can I optimize a Python function that processes large datasets?\"))\n",
    "print(\"Expert:\", coding_expert.send_message(\"Can you show me a code example?\"))"
   ]
  },
  {
   "cell_type": "markdown",
   "metadata": {},
   "source": [
    "## Example 3: Interactive Chat Session"
   ]
  },
  {
   "cell_type": "code",
   "execution_count": null,
   "metadata": {},
   "outputs": [],
   "source": [
    "# Create an interactive chat function\n",
    "def interactive_chat(agent, max_turns=5):\n",
    "    \"\"\"\n",
    "    Start an interactive chat session with the agent.\n",
    "    \n",
    "    Args:\n",
    "        agent: ConversationalAgent instance\n",
    "        max_turns: Maximum number of conversation turns\n",
    "    \"\"\"\n",
    "    print(\"\\n=== Interactive Chat Session ===\")\n",
    "    print(\"Type 'quit' to end the conversation\")\n",
    "    print(\"-\" * 40)\n",
    "    \n",
    "    turn_count = 0\n",
    "    while turn_count < max_turns:\n",
    "        try:\n",
    "            user_input = input(f\"You ({turn_count + 1}/{max_turns}): \")\n",
    "            \n",
    "            if user_input.lower() in ['quit', 'exit', 'bye']:\n",
    "                print(\"Agent: Goodbye! Have a great day!\")\n",
    "                break\n",
    "                \n",
    "            response = agent.send_message(user_input)\n",
    "            print(f\"Agent: {response}\")\n",
    "            print()\n",
    "            \n",
    "            turn_count += 1\n",
    "            \n",
    "        except KeyboardInterrupt:\n",
    "            print(\"\\nConversation ended by user.\")\n",
    "            break\n",
    "        except Exception as e:\n",
    "            print(f\"Error: {e}\")\n",
    "            break\n",
    "\n",
    "# Example usage (uncomment to run interactively)\n",
    "# interactive_agent = ConversationalAgent(\n",
    "#     system_prompt=\"You are a friendly AI assistant who loves to help with questions and have engaging conversations.\"\n",
    "# )\n",
    "# interactive_chat(interactive_agent)"
   ]
  },
  {
   "cell_type": "markdown",
   "metadata": {},
   "source": [
    "## Example 4: Agent with Memory and Context"
   ]
  },
  {
   "cell_type": "code",
   "execution_count": null,
   "metadata": {},
   "outputs": [],
   "source": [
    "# Create an agent and demonstrate context awareness\n",
    "memory_agent = ConversationalAgent(\n",
    "    system_prompt=\"You have an excellent memory and pay attention to details in our conversation. Reference previous topics when relevant.\"\n",
    ")\n",
    "\n",
    "print(\"\\n=== Memory and Context Example ===\")\n",
    "\n",
    "# First exchange\n",
    "print(\"User: My name is Alice and I'm learning Python programming.\")\n",
    "response1 = memory_agent.send_message(\"My name is Alice and I'm learning Python programming.\")\n",
    "print(f\"Agent: {response1}\")\n",
    "\n",
    "# Second exchange - agent should remember the name\n",
    "print(\"\\nUser: What's a good project for a beginner like me?\")\n",
    "response2 = memory_agent.send_message(\"What's a good project for a beginner like me?\")\n",
    "print(f\"Agent: {response2}\")\n",
    "\n",
    "# Third exchange - testing context\n",
    "print(\"\\nUser: Can you remind me what we were discussing earlier?\")\n",
    "response3 = memory_agent.send_message(\"Can you remind me what we were discussing earlier?\")\n",
    "print(f\"Agent: {response3}\")"
   ]
  },
  {
   "cell_type": "markdown",
   "metadata": {},
   "source": [
    "## Utility Functions"
   ]
  },
  {
   "cell_type": "code",
   "execution_count": null,
   "metadata": {},
   "outputs": [],
   "source": [
    "def display_conversation_history(agent, title=\"Conversation History\"):\n",
    "    \"\"\"\n",
    "    Display the conversation history in a formatted way.\n",
    "    \n",
    "    Args:\n",
    "        agent: ConversationalAgent instance\n",
    "        title: Title for the conversation display\n",
    "    \"\"\"\n",
    "    print(f\"\\n=== {title} ===\")\n",
    "    history = agent.get_conversation_history()\n",
    "    \n",
    "    for i, message in enumerate(history):\n",
    "        role = message['role'].title()\n",
    "        content = message['content']\n",
    "        \n",
    "        if role == 'System':\n",
    "            print(f\"[{role}]: {content[:100]}...\" if len(content) > 100 else f\"[{role}]: {content}\")\n",
    "        else:\n",
    "            print(f\"{role}: {content}\")\n",
    "        print()\n",
    "\n",
    "# Example usage\n",
    "display_conversation_history(memory_agent, \"Memory Agent Conversation\")"
   ]
  },
  {
   "cell_type": "markdown",
   "metadata": {},
   "source": [
    "## Advanced Features\n",
    "\n",
    "Here are some ideas for extending this basic conversational agent:\n",
    "\n",
    "1. **Conversation Saving/Loading**: Save conversations to files and load them later\n",
    "2. **Multiple Personalities**: Switch between different agent personalities\n",
    "3. **Context Length Management**: Automatically manage conversation length to stay within token limits\n",
    "4. **Integration with External APIs**: Add weather, news, or other real-time data\n",
    "5. **Voice Integration**: Add text-to-speech and speech-to-text capabilities\n",
    "6. **GUI Interface**: Create a web or desktop interface for the chatbot"
   ]
  },
  {
   "cell_type": "markdown",
   "metadata": {},
   "source": [
    "## Error Handling and Best Practices\n",
    "\n",
    "When working with AI agents, consider these best practices:\n",
    "\n",
    "- Always handle API errors gracefully\n",
    "- Implement rate limiting to avoid exceeding API quotas\n",
    "- Monitor token usage to control costs\n",
    "- Validate user input before sending to the API\n",
    "- Implement conversation length limits\n",
    "- Store API keys securely using environment variables"
   ]
  },
  {
   "cell_type": "code",
   "execution_count": null,
   "metadata": {},
   "outputs": [],
   "source": [
    "# Example of enhanced error handling\n",
    "class EnhancedConversationalAgent(ConversationalAgent):\n",
    "    def __init__(self, system_prompt=\"You are a helpful AI assistant.\", model=\"gpt-3.5-turbo\", max_history=20):\n",
    "        super().__init__(system_prompt, model)\n",
    "        self.max_history = max_history\n",
    "    \n",
    "    def send_message(self, message):\n",
    "        # Input validation\n",
    "        if not message or not message.strip():\n",
    "            return \"Please provide a valid message.\"\n",
    "        \n",
    "        # Manage conversation length\n",
    "        if len(self.conversation_history) > self.max_history:\n",
    "            # Keep system prompt and recent messages\n",
    "            self.conversation_history = [self.conversation_history[0]] + self.conversation_history[-(self.max_history-1):]\n",
    "        \n",
    "        return super().send_message(message)\n",
    "\n",
    "# Example usage\n",
    "enhanced_agent = EnhancedConversationalAgent(\n",
    "    system_prompt=\"You are a helpful AI assistant with enhanced capabilities.\",\n",
    "    max_history=10\n",
    ")\n",
    "\n",
    "print(\"\\n=== Enhanced Agent Example ===\")\n",
    "print(\"Agent:\", enhanced_agent.send_message(\"Hello! Can you tell me about yourself?\"))"
   ]
  }
 ],
 "metadata": {
  "kernelspec": {
   "display_name": "Python 3",
   "language": "python",
   "name": "python3"
  },
  "language_info": {
   "codemirror_mode": {
    "name": "ipython",
    "version": 3
   },
   "file_extension": ".py",
   "mimetype": "text/x-python",
   "name": "python",
   "nbconvert_exporter": "python",
   "pygments_lexer": "ipython3",
   "version": "3.8.5"
  }
 },
 "nbformat": 4,
 "nbformat_minor": 4
}