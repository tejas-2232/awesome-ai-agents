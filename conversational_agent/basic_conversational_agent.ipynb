{
 "cells": [
  {
   "cell_type": "markdown",
   "id": "ac90f6d7",
   "metadata": {},
   "source": [
    "## Basic Conversational AI Agent\n",
    "This notebook demonstrates how to create a simple conversational AI agent using OpenAI's GPT model. The agent can engage in natural conversations and maintain context throughout the interaction."
   ]
  },
  {
   "cell_type": "markdown",
   "id": "d0d980e0",
   "metadata": {},
   "source": [
    "#### Features:\n",
    "* Natural language conversation\n",
    "* Context awareness\n",
    "* Customizable personality and behavior\n",
    "* Memory of conversation history"
   ]
  },
  {
   "cell_type": "markdown",
   "id": "ab85773f",
   "metadata": {},
   "source": [
    "#### Setup and Installation\n",
    "First, let's install the required dependencies:"
   ]
  },
  {
   "cell_type": "code",
   "execution_count": null,
   "id": "c631ae99",
   "metadata": {
    "vscode": {
     "languageId": "plaintext"
    }
   },
   "outputs": [],
   "source": [
    "# Install required packages\n",
    "!pip install openai python-dotenv"
   ]
  },
  {
   "cell_type": "markdown",
   "id": "54300da2",
   "metadata": {},
   "source": [
    "### Import Libraries and Setup Environment"
   ]
  },
  {
   "cell_type": "code",
   "execution_count": null,
   "id": "8110d5e2",
   "metadata": {
    "vscode": {
     "languageId": "plaintext"
    }
   },
   "outputs": [],
   "source": [
    "import openai\n",
    "import os\n",
    "from dotenv import load_dotenv\n",
    "from datetime import datetime\n",
    "\n",
    "#load env vars\n",
    "load_dotenv()\n",
    "\n",
    "#set up openai API key\n",
    "openai.api_key = os.getenv('OPENAI_API_KEY')\n",
    "\n",
    "# If you don't have a .env file, you can set the API key directly:\n",
    "# openai.api_key = \"your-api-key-here\"\n",
    "\n"
   ]
  },
  {
   "cell_type": "markdown",
   "id": "8a009e33",
   "metadata": {},
   "source": [
    "#### Basic Conversational Agent Class\n",
    "Let's create a simple conversational agent that can maintain context and have natural conversations:"
   ]
  },
  {
   "cell_type": "code",
   "execution_count": null,
   "id": "5e6da297",
   "metadata": {},
   "outputs": [],
   "source": [
    "class ConversationalAgent:\n",
    "    def __init__(self, system_prompt=\"You are a helpful AI assitant.\", model=\"gpt-3.5-turbo\"):\n",
    "        \"\"\"\n",
    "        Initialize the conversational agent.\n",
    "        \n",
    "        Args:\n",
    "            system_prompt (str): The system prompt that defines the agent's personality\n",
    "            model (str): The OpenAI model to use\n",
    "        \"\"\"\n",
    "        self.model = model\n",
    "        self.conversation_history = [\n",
    "            {\"role\": \"system\" , \"content\": system_prompt }\n",
    "        ]\n",
    "    \n",
    "    def send_message(self,message):\n",
    "        \"\"\"\n",
    "        send a message to the agent and get a response\n",
    "        Args:\n",
    "            message(str): user's message\n",
    "        \n",
    "        Returns:\n",
    "          str: Agent's response\n",
    "        \"\"\"\n",
    "        # Add user message to conversation history\n",
    "        self.conversation_history.append({\"role\": \"user\", \"content\": message})\n",
    "\n",
    "        try:\n",
    "            #get a response from openAI\n",
    "\n",
    "            response = openai.ChatCompletion.create(\n",
    "                model = self.model\n",
    "                messages = self.conversation_history,\n",
    "                max_token=150\n",
    "                temperature=0.7\n",
    "            )\n",
    "\n",
    "            #extract assitant's response\n",
    "            assitant_message = response.choices[0].message.content\n",
    "            \n",
    "            # Add assistant's response to conversation history\n",
    "            self.conversation_history.append({\"role\": \"assistant\", \"content\": assistant_message})\n",
    "            \n",
    "            return assistant_message\n",
    "        except Exception as e:\n",
    "            return f\"Error: {str(e)}\"\n",
    "    \n",
    "    def get_conversation_history(self):\n",
    "        \"\"\"\n",
    "        Get the full conversation history.\n",
    "        \n",
    "        Returns:\n",
    "            list: List of conversation messages\n",
    "        \"\"\"\n",
    "        return self.conversation_history\n",
    "    \n",
    "    def clear_history(self, keep_system_prompt=True):\n",
    "        \"\"\"\n",
    "        Clear the conversation history.\n",
    "        Args:\n",
    "            keep_system_prompt (bool): Whether to keep the system prompt\"\"\"\n",
    "        if keep_system_prompt and self.conversation_history:\n",
    "            self.conversation_history = [self.conversation_history[0]]\n",
    "        else:\n",
    "            self.conversation_history = []"
   ]
  },
  {
   "cell_type": "markdown",
   "id": "e6cf904d",
   "metadata": {},
   "source": []
  }
 ],
 "metadata": {
  "language_info": {
   "name": "python"
  }
 },
 "nbformat": 4,
 "nbformat_minor": 5
}
